{
  "nbformat": 4,
  "nbformat_minor": 0,
  "metadata": {
    "kernelspec": {
      "display_name": "Python 3",
      "language": "python",
      "name": "python3"
    },
    "language_info": {
      "codemirror_mode": {
        "name": "ipython",
        "version": 3
      },
      "file_extension": ".py",
      "mimetype": "text/x-python",
      "name": "python",
      "nbconvert_exporter": "python",
      "pygments_lexer": "ipython3",
      "version": "3.7.3"
    },
    "colab": {
      "name": "Eng2Hindi-WordLevel.ipynb",
      "provenance": []
    }
  },
  "cells": [
    {
      "cell_type": "code",
      "metadata": {
        "id": "jn4zLTKRfYbi"
      },
      "source": [
        "import pandas as pd\n",
        "import numpy as np\n",
        "import string\n",
        "from string import digits\n",
        "import matplotlib.pyplot as plt\n",
        "%matplotlib inline\n",
        "import re\n",
        "#from sklearn.cross_validation import train_test_split\n",
        "# Building a english to french translator"
      ],
      "execution_count": null,
      "outputs": []
    },
    {
      "cell_type": "code",
      "metadata": {
        "id": "QJrM3R40fYbm"
      },
      "source": [
        "lines= pd.read_table('hin.txt', names=['eng', 'hin'])"
      ],
      "execution_count": null,
      "outputs": []
    },
    {
      "cell_type": "code",
      "metadata": {
        "id": "3rEBMNaKfYbs"
      },
      "source": [
        "lines = lines[0:50000]"
      ],
      "execution_count": null,
      "outputs": []
    },
    {
      "cell_type": "code",
      "metadata": {
        "id": "yfnv_TdOfYbv",
        "outputId": "b61c8000-9744-4679-d1cc-d8022e1ef10a"
      },
      "source": [
        "lines.shape"
      ],
      "execution_count": null,
      "outputs": [
        {
          "output_type": "execute_result",
          "data": {
            "text/plain": [
              "(2810, 2)"
            ]
          },
          "metadata": {
            "tags": []
          },
          "execution_count": 69
        }
      ]
    },
    {
      "cell_type": "code",
      "metadata": {
        "id": "ZGsoGyK2fYby",
        "outputId": "2b8119c5-e957-473a-c0dc-7cc986866e9b"
      },
      "source": [
        "lines.sample(10)"
      ],
      "execution_count": null,
      "outputs": [
        {
          "output_type": "execute_result",
          "data": {
            "text/html": [
              "<div>\n",
              "<style scoped>\n",
              "    .dataframe tbody tr th:only-of-type {\n",
              "        vertical-align: middle;\n",
              "    }\n",
              "\n",
              "    .dataframe tbody tr th {\n",
              "        vertical-align: top;\n",
              "    }\n",
              "\n",
              "    .dataframe thead th {\n",
              "        text-align: right;\n",
              "    }\n",
              "</style>\n",
              "<table border=\"1\" class=\"dataframe\">\n",
              "  <thead>\n",
              "    <tr style=\"text-align: right;\">\n",
              "      <th></th>\n",
              "      <th>eng</th>\n",
              "      <th>hin</th>\n",
              "    </tr>\n",
              "  </thead>\n",
              "  <tbody>\n",
              "    <tr>\n",
              "      <th>800</th>\n",
              "      <td>He betrayed his country.</td>\n",
              "      <td>उसने अपने देश को धोखा दे दिया।</td>\n",
              "    </tr>\n",
              "    <tr>\n",
              "      <th>944</th>\n",
              "      <td>Let me introduce my wife.</td>\n",
              "      <td>यह मेरी पत्नी है।</td>\n",
              "    </tr>\n",
              "    <tr>\n",
              "      <th>2639</th>\n",
              "      <td>My mother is constantly forgetting people's na...</td>\n",
              "      <td>मेरी माँ अक्सर लोगों के नाम भूलती रहती है।</td>\n",
              "    </tr>\n",
              "    <tr>\n",
              "      <th>630</th>\n",
              "      <td>I am grateful to them.</td>\n",
              "      <td>मैं उनका आभारी हूँ।</td>\n",
              "    </tr>\n",
              "    <tr>\n",
              "      <th>418</th>\n",
              "      <td>The batter was out.</td>\n",
              "      <td>बॅटर आऊट हो गया था।</td>\n",
              "    </tr>\n",
              "    <tr>\n",
              "      <th>348</th>\n",
              "      <td>What's the matter?</td>\n",
              "      <td>मुश्किल क्या है?</td>\n",
              "    </tr>\n",
              "    <tr>\n",
              "      <th>1428</th>\n",
              "      <td>He spread butter on the bread.</td>\n",
              "      <td>उसने मक्खन को ब्रेड पर लगाया।</td>\n",
              "    </tr>\n",
              "    <tr>\n",
              "      <th>905</th>\n",
              "      <td>I can't stand it anymore.</td>\n",
              "      <td>मुझसे और सहन नहीं होगा!</td>\n",
              "    </tr>\n",
              "    <tr>\n",
              "      <th>1065</th>\n",
              "      <td>One of my bags is missing.</td>\n",
              "      <td>मुझे अपनी एक अटैची मिल नहीं रही है।</td>\n",
              "    </tr>\n",
              "    <tr>\n",
              "      <th>1013</th>\n",
              "      <td>He's sleeping like a baby.</td>\n",
              "      <td>वह बच्चे की तरह सो रहा है।</td>\n",
              "    </tr>\n",
              "  </tbody>\n",
              "</table>\n",
              "</div>"
            ],
            "text/plain": [
              "                                                    eng  \\\n",
              "800                            He betrayed his country.   \n",
              "944                           Let me introduce my wife.   \n",
              "2639  My mother is constantly forgetting people's na...   \n",
              "630                              I am grateful to them.   \n",
              "418                                 The batter was out.   \n",
              "348                                  What's the matter?   \n",
              "1428                     He spread butter on the bread.   \n",
              "905                           I can't stand it anymore.   \n",
              "1065                         One of my bags is missing.   \n",
              "1013                         He's sleeping like a baby.   \n",
              "\n",
              "                                             hin  \n",
              "800               उसने अपने देश को धोखा दे दिया।  \n",
              "944                            यह मेरी पत्नी है।  \n",
              "2639  मेरी माँ अक्सर लोगों के नाम भूलती रहती है।  \n",
              "630                          मैं उनका आभारी हूँ।  \n",
              "418                          बॅटर आऊट हो गया था।  \n",
              "348                             मुश्किल क्या है?  \n",
              "1428               उसने मक्खन को ब्रेड पर लगाया।  \n",
              "905                      मुझसे और सहन नहीं होगा!  \n",
              "1065         मुझे अपनी एक अटैची मिल नहीं रही है।  \n",
              "1013                  वह बच्चे की तरह सो रहा है।  "
            ]
          },
          "metadata": {
            "tags": []
          },
          "execution_count": 70
        }
      ]
    },
    {
      "cell_type": "code",
      "metadata": {
        "id": "k5BwAGbyfYb1"
      },
      "source": [
        "lines.eng=lines.eng.apply(lambda x: x.lower())\n",
        "lines.hin=lines.hin.apply(lambda x: x.lower())"
      ],
      "execution_count": null,
      "outputs": []
    },
    {
      "cell_type": "code",
      "metadata": {
        "id": "dSWa4H9afYb4"
      },
      "source": [
        "# Take the length as 50\n",
        "lines.eng=lines.eng.apply(lambda x: re.sub(\"'\", '', x)).apply(lambda x: re.sub(\",\", ' COMMA', x))\n",
        "lines.hin=lines.hin.apply(lambda x: re.sub(\"'\", '', x)).apply(lambda x: re.sub(\",\", ' COMMA', x))"
      ],
      "execution_count": null,
      "outputs": []
    },
    {
      "cell_type": "code",
      "metadata": {
        "id": "myykPQWEfYb8"
      },
      "source": [
        "exclude = set(string.punctuation)\n",
        "lines.eng=lines.eng.apply(lambda x: ''.join(ch for ch in x if ch not in exclude))\n",
        "lines.hin=lines.hin.apply(lambda x: ''.join(ch for ch in x if ch not in exclude))"
      ],
      "execution_count": null,
      "outputs": []
    },
    {
      "cell_type": "code",
      "metadata": {
        "id": "QF3_c5iRfYb_"
      },
      "source": [
        "remove_digits = str.maketrans('', '', digits)\n",
        "lines.eng=lines.eng.apply(lambda x: x.translate(remove_digits))\n",
        "lines.hin=lines.hin.apply(lambda x: x.translate(remove_digits))"
      ],
      "execution_count": null,
      "outputs": []
    },
    {
      "cell_type": "code",
      "metadata": {
        "id": "OwketyWsfYcB",
        "outputId": "2190cfed-72ff-476d-f29b-ab6cb00daee7"
      },
      "source": [
        "lines.head()"
      ],
      "execution_count": null,
      "outputs": [
        {
          "output_type": "execute_result",
          "data": {
            "text/html": [
              "<div>\n",
              "<style scoped>\n",
              "    .dataframe tbody tr th:only-of-type {\n",
              "        vertical-align: middle;\n",
              "    }\n",
              "\n",
              "    .dataframe tbody tr th {\n",
              "        vertical-align: top;\n",
              "    }\n",
              "\n",
              "    .dataframe thead th {\n",
              "        text-align: right;\n",
              "    }\n",
              "</style>\n",
              "<table border=\"1\" class=\"dataframe\">\n",
              "  <thead>\n",
              "    <tr style=\"text-align: right;\">\n",
              "      <th></th>\n",
              "      <th>eng</th>\n",
              "      <th>hin</th>\n",
              "    </tr>\n",
              "  </thead>\n",
              "  <tbody>\n",
              "    <tr>\n",
              "      <th>0</th>\n",
              "      <td>wow</td>\n",
              "      <td>वाह</td>\n",
              "    </tr>\n",
              "    <tr>\n",
              "      <th>1</th>\n",
              "      <td>help</td>\n",
              "      <td>बचाओ</td>\n",
              "    </tr>\n",
              "    <tr>\n",
              "      <th>2</th>\n",
              "      <td>jump</td>\n",
              "      <td>उछलो</td>\n",
              "    </tr>\n",
              "    <tr>\n",
              "      <th>3</th>\n",
              "      <td>jump</td>\n",
              "      <td>कूदो</td>\n",
              "    </tr>\n",
              "    <tr>\n",
              "      <th>4</th>\n",
              "      <td>jump</td>\n",
              "      <td>छलांग</td>\n",
              "    </tr>\n",
              "  </tbody>\n",
              "</table>\n",
              "</div>"
            ],
            "text/plain": [
              "    eng    hin\n",
              "0   wow    वाह\n",
              "1  help   बचाओ\n",
              "2  jump   उछलो\n",
              "3  jump   कूदो\n",
              "4  jump  छलांग"
            ]
          },
          "metadata": {
            "tags": []
          },
          "execution_count": 75
        }
      ]
    },
    {
      "cell_type": "code",
      "metadata": {
        "id": "kABTlAiPfYcE"
      },
      "source": [
        "lines.hin = lines.hin.apply(lambda x : 'START_ '+ x + ' _END')"
      ],
      "execution_count": null,
      "outputs": []
    },
    {
      "cell_type": "code",
      "metadata": {
        "id": "3NNtRaebfYcH",
        "outputId": "462e206f-b5c9-4e94-9dcf-600043b53911"
      },
      "source": [
        "lines.hin.head()"
      ],
      "execution_count": null,
      "outputs": [
        {
          "output_type": "execute_result",
          "data": {
            "text/plain": [
              "0      START_ वाह _END\n",
              "1     START_ बचाओ _END\n",
              "2     START_ उछलो _END\n",
              "3     START_ कूदो _END\n",
              "4    START_ छलांग _END\n",
              "Name: hin, dtype: object"
            ]
          },
          "metadata": {
            "tags": []
          },
          "execution_count": 77
        }
      ]
    },
    {
      "cell_type": "code",
      "metadata": {
        "id": "fsdr5e39fYcL"
      },
      "source": [
        "all_eng_words=set()\n",
        "for eng in lines.eng:\n",
        "    for word in eng.split():\n",
        "        if word not in all_eng_words:\n",
        "            all_eng_words.add(word)\n",
        "    \n",
        "all_hindi_words=set()\n",
        "for hin in lines.hin:\n",
        "    for word in hin.split():\n",
        "        if word not in all_hindi_words:\n",
        "            all_hindi_words.add(word)\n"
      ],
      "execution_count": null,
      "outputs": []
    },
    {
      "cell_type": "code",
      "metadata": {
        "id": "DSD3-keefYcO",
        "outputId": "407547b6-ab92-4ca7-ee19-a0e66f83c202"
      },
      "source": [
        "len(all_eng_words), len(all_hindi_words)"
      ],
      "execution_count": null,
      "outputs": [
        {
          "output_type": "execute_result",
          "data": {
            "text/plain": [
              "(2359, 3011)"
            ]
          },
          "metadata": {
            "tags": []
          },
          "execution_count": 79
        }
      ]
    },
    {
      "cell_type": "code",
      "metadata": {
        "id": "Y5gXJkxifYcR",
        "outputId": "70bbf504-7291-4b43-dee0-a1d489ec19d5"
      },
      "source": [
        "lenght_list=[]\n",
        "for l in lines.hin:\n",
        "    lenght_list.append(len(l.split(' ')))\n",
        "np.max(lenght_list)"
      ],
      "execution_count": null,
      "outputs": [
        {
          "output_type": "execute_result",
          "data": {
            "text/plain": [
              "29"
            ]
          },
          "metadata": {
            "tags": []
          },
          "execution_count": 80
        }
      ]
    },
    {
      "cell_type": "code",
      "metadata": {
        "id": "MuFZ-gAufYcU",
        "outputId": "9f2484ae-f3de-401a-f47d-660950d63c88"
      },
      "source": [
        "lenght_list=[]\n",
        "for l in lines.eng:\n",
        "    lenght_list.append(len(l.split(' ')))\n",
        "np.max(lenght_list)"
      ],
      "execution_count": null,
      "outputs": [
        {
          "output_type": "execute_result",
          "data": {
            "text/plain": [
              "23"
            ]
          },
          "metadata": {
            "tags": []
          },
          "execution_count": 81
        }
      ]
    },
    {
      "cell_type": "code",
      "metadata": {
        "id": "Rnk3sU4mfYcW"
      },
      "source": [
        "input_words = sorted(list(all_eng_words))\n",
        "target_words = sorted(list(all_hindi_words))\n",
        "num_encoder_tokens = len(all_eng_words)\n",
        "num_decoder_tokens = len(all_hindi_words)\n",
        "# del all_eng_words, all_french_words"
      ],
      "execution_count": null,
      "outputs": []
    },
    {
      "cell_type": "code",
      "metadata": {
        "id": "yeCRnlCUfYca"
      },
      "source": [
        "input_token_index = dict(\n",
        "    [(word, i) for i, word in enumerate(input_words)])\n",
        "target_token_index = dict(\n",
        "    [(word, i) for i, word in enumerate(target_words)])"
      ],
      "execution_count": null,
      "outputs": []
    },
    {
      "cell_type": "code",
      "metadata": {
        "id": "erK665hzfYce"
      },
      "source": [
        "encoder_input_data = np.zeros(\n",
        "    (len(lines.eng), 23),\n",
        "    dtype='float32')\n",
        "decoder_input_data = np.zeros(\n",
        "    (len(lines.hin), 29),\n",
        "    dtype='float32')\n",
        "decoder_target_data = np.zeros(\n",
        "    (len(lines.hin), 29, num_decoder_tokens),\n",
        "    dtype='float32')"
      ],
      "execution_count": null,
      "outputs": []
    },
    {
      "cell_type": "code",
      "metadata": {
        "id": "V-5IB1INfYcg"
      },
      "source": [
        "for i, (input_text, target_text) in enumerate(zip(lines.eng, lines.hin)):\n",
        "    for t, word in enumerate(input_text.split()):\n",
        "        encoder_input_data[i, t] = input_token_index[word]\n",
        "    for t, word in enumerate(target_text.split()):\n",
        "        # decoder_target_data is ahead of decoder_input_data by one timestep\n",
        "        decoder_input_data[i, t] = target_token_index[word]\n",
        "        if t > 0:\n",
        "            # decoder_target_data will be ahead by one timestep\n",
        "            # and will not include the start character.\n",
        "            decoder_target_data[i, t - 1, target_token_index[word]] = 1.\n"
      ],
      "execution_count": null,
      "outputs": []
    },
    {
      "cell_type": "code",
      "metadata": {
        "id": "-LknxGhJfYci"
      },
      "source": [
        "#Build keras encoder-decoder model"
      ],
      "execution_count": null,
      "outputs": []
    },
    {
      "cell_type": "code",
      "metadata": {
        "id": "TMkvX3N7fYck"
      },
      "source": [
        "embedding_size = 100"
      ],
      "execution_count": null,
      "outputs": []
    },
    {
      "cell_type": "code",
      "metadata": {
        "id": "Goj7HEXUfYcn"
      },
      "source": [
        "from keras.layers import Input, LSTM, Embedding, Dense\n",
        "from keras.models import Model\n",
        "from keras.utils import plot_model"
      ],
      "execution_count": null,
      "outputs": []
    },
    {
      "cell_type": "code",
      "metadata": {
        "id": "ruJ71Ut_fYcp"
      },
      "source": [
        "#Encoder model"
      ],
      "execution_count": null,
      "outputs": []
    },
    {
      "cell_type": "code",
      "metadata": {
        "id": "P3zXznMdfYcr"
      },
      "source": [
        "encoder_inputs = Input(shape=(None,))\n",
        "en_x=  Embedding(num_encoder_tokens, embedding_size)(encoder_inputs)\n",
        "encoder = LSTM(50, return_state=True)\n",
        "encoder_outputs, state_h, state_c = encoder(en_x)\n",
        "# We discard `encoder_outputs` and only keep the states.\n",
        "encoder_states = [state_h, state_c]"
      ],
      "execution_count": null,
      "outputs": []
    },
    {
      "cell_type": "code",
      "metadata": {
        "id": "-SMUd7m0fYcv"
      },
      "source": [
        "#Decoder model"
      ],
      "execution_count": null,
      "outputs": []
    },
    {
      "cell_type": "code",
      "metadata": {
        "id": "2EhY8Pg2fYcx"
      },
      "source": [
        "# Set up the decoder, using `encoder_states` as initial state.\n",
        "decoder_inputs = Input(shape=(None,))\n",
        "\n",
        "dex=  Embedding(num_decoder_tokens, embedding_size)\n",
        "\n",
        "final_dex= dex(decoder_inputs)\n",
        "\n",
        "\n",
        "decoder_lstm = LSTM(50, return_sequences=True, return_state=True)\n",
        "\n",
        "decoder_outputs, _, _ = decoder_lstm(final_dex,\n",
        "                                     initial_state=encoder_states)\n",
        "\n",
        "decoder_dense = Dense(num_decoder_tokens, activation='softmax')\n",
        "\n",
        "decoder_outputs = decoder_dense(decoder_outputs)\n",
        "\n",
        "model = Model([encoder_inputs, decoder_inputs], decoder_outputs)\n",
        "\n",
        "model.compile(optimizer='rmsprop', loss='categorical_crossentropy', metrics=['acc'])"
      ],
      "execution_count": null,
      "outputs": []
    },
    {
      "cell_type": "code",
      "metadata": {
        "id": "pC_90pN3fYc1",
        "outputId": "ffa258d7-60b5-4935-c45b-c5b95007478a"
      },
      "source": [
        "model.summary()"
      ],
      "execution_count": null,
      "outputs": [
        {
          "output_type": "stream",
          "text": [
            "__________________________________________________________________________________________________\n",
            "Layer (type)                    Output Shape         Param #     Connected to                     \n",
            "==================================================================================================\n",
            "input_5 (InputLayer)            (None, None)         0                                            \n",
            "__________________________________________________________________________________________________\n",
            "input_6 (InputLayer)            (None, None)         0                                            \n",
            "__________________________________________________________________________________________________\n",
            "embedding_3 (Embedding)         (None, None, 100)    235900      input_5[0][0]                    \n",
            "__________________________________________________________________________________________________\n",
            "embedding_4 (Embedding)         (None, None, 100)    301100      input_6[0][0]                    \n",
            "__________________________________________________________________________________________________\n",
            "lstm_3 (LSTM)                   [(None, 50), (None,  30200       embedding_3[0][0]                \n",
            "__________________________________________________________________________________________________\n",
            "lstm_4 (LSTM)                   [(None, None, 50), ( 30200       embedding_4[0][0]                \n",
            "                                                                 lstm_3[0][1]                     \n",
            "                                                                 lstm_3[0][2]                     \n",
            "__________________________________________________________________________________________________\n",
            "dense_2 (Dense)                 (None, None, 3011)   153561      lstm_4[0][0]                     \n",
            "==================================================================================================\n",
            "Total params: 750,961\n",
            "Trainable params: 750,961\n",
            "Non-trainable params: 0\n",
            "__________________________________________________________________________________________________\n"
          ],
          "name": "stdout"
        }
      ]
    },
    {
      "cell_type": "code",
      "metadata": {
        "id": "BLxiU5KpfYc3"
      },
      "source": [
        "#Fit the model"
      ],
      "execution_count": null,
      "outputs": []
    },
    {
      "cell_type": "code",
      "metadata": {
        "id": "UFV9PhejfYc-",
        "outputId": "f51f1813-de92-4387-d8fa-b02e64c4a312"
      },
      "source": [
        "model.fit([encoder_input_data, decoder_input_data], decoder_target_data,\n",
        "          batch_size=128,\n",
        "          epochs=500,\n",
        "          validation_split=0.05)"
      ],
      "execution_count": null,
      "outputs": [
        {
          "output_type": "stream",
          "text": [
            "Train on 2669 samples, validate on 141 samples\n",
            "Epoch 1/500\n",
            "2669/2669 [==============================] - 11s 4ms/step - loss: 1.5591 - acc: 0.0352 - val_loss: 3.0392 - val_acc: 0.0345\n",
            "Epoch 2/500\n",
            "2669/2669 [==============================] - 12s 5ms/step - loss: 1.5292 - acc: 0.0345 - val_loss: 3.0469 - val_acc: 0.0345\n",
            "Epoch 3/500\n",
            "2669/2669 [==============================] - 11s 4ms/step - loss: 1.5083 - acc: 0.0345 - val_loss: 3.0488 - val_acc: 0.0345\n",
            "Epoch 4/500\n",
            "2669/2669 [==============================] - 11s 4ms/step - loss: 1.4898 - acc: 0.0345 - val_loss: 3.0529 - val_acc: 0.0345\n",
            "Epoch 5/500\n",
            "2669/2669 [==============================] - 11s 4ms/step - loss: 1.4722 - acc: 0.0345 - val_loss: 3.0454 - val_acc: 0.0345\n",
            "Epoch 6/500\n",
            "2669/2669 [==============================] - 11s 4ms/step - loss: 1.4562 - acc: 0.0345 - val_loss: 3.0473 - val_acc: 0.0345\n",
            "Epoch 7/500\n",
            "2669/2669 [==============================] - 11s 4ms/step - loss: 1.4423 - acc: 0.0345 - val_loss: 3.0523 - val_acc: 0.0345\n",
            "Epoch 8/500\n",
            "2669/2669 [==============================] - 11s 4ms/step - loss: 1.4290 - acc: 0.0350 - val_loss: 3.0465 - val_acc: 0.0357\n",
            "Epoch 9/500\n",
            "2669/2669 [==============================] - 11s 4ms/step - loss: 1.4160 - acc: 0.0379 - val_loss: 3.0410 - val_acc: 0.0372\n",
            "Epoch 10/500\n",
            "2669/2669 [==============================] - 11s 4ms/step - loss: 1.4029 - acc: 0.0383 - val_loss: 3.0555 - val_acc: 0.0360\n",
            "Epoch 11/500\n",
            "2669/2669 [==============================] - 11s 4ms/step - loss: 1.3907 - acc: 0.0382 - val_loss: 3.0527 - val_acc: 0.0372\n",
            "Epoch 12/500\n",
            "2669/2669 [==============================] - 11s 4ms/step - loss: 1.3781 - acc: 0.0390 - val_loss: 3.0550 - val_acc: 0.0401\n",
            "Epoch 13/500\n",
            "2669/2669 [==============================] - 11s 4ms/step - loss: 1.3661 - acc: 0.0398 - val_loss: 3.0477 - val_acc: 0.0408\n",
            "Epoch 14/500\n",
            "2669/2669 [==============================] - 11s 4ms/step - loss: 1.3537 - acc: 0.0407 - val_loss: 3.0587 - val_acc: 0.0416\n",
            "Epoch 15/500\n",
            "2669/2669 [==============================] - 11s 4ms/step - loss: 1.3428 - acc: 0.0413 - val_loss: 3.0635 - val_acc: 0.0394\n",
            "Epoch 16/500\n",
            "2669/2669 [==============================] - 11s 4ms/step - loss: 1.3319 - acc: 0.0420 - val_loss: 3.0664 - val_acc: 0.0391\n",
            "Epoch 17/500\n",
            "2669/2669 [==============================] - 11s 4ms/step - loss: 1.3213 - acc: 0.0430 - val_loss: 3.0769 - val_acc: 0.0389\n",
            "Epoch 18/500\n",
            "2669/2669 [==============================] - 13s 5ms/step - loss: 1.3108 - acc: 0.0441 - val_loss: 3.0694 - val_acc: 0.0406\n",
            "Epoch 19/500\n",
            "2669/2669 [==============================] - 11s 4ms/step - loss: 1.3018 - acc: 0.0455 - val_loss: 3.0888 - val_acc: 0.0401\n",
            "Epoch 20/500\n",
            "2669/2669 [==============================] - 11s 4ms/step - loss: 1.2923 - acc: 0.0470 - val_loss: 3.0827 - val_acc: 0.0408\n",
            "Epoch 21/500\n",
            "2669/2669 [==============================] - 11s 4ms/step - loss: 1.2830 - acc: 0.0482 - val_loss: 3.0873 - val_acc: 0.0408\n",
            "Epoch 22/500\n",
            "2669/2669 [==============================] - 11s 4ms/step - loss: 1.2741 - acc: 0.0489 - val_loss: 3.0859 - val_acc: 0.0423\n",
            "Epoch 23/500\n",
            "2669/2669 [==============================] - 11s 4ms/step - loss: 1.2660 - acc: 0.0493 - val_loss: 3.0924 - val_acc: 0.0426\n",
            "Epoch 24/500\n",
            "2669/2669 [==============================] - 11s 4ms/step - loss: 1.2570 - acc: 0.0504 - val_loss: 3.0884 - val_acc: 0.0430\n",
            "Epoch 25/500\n",
            "2669/2669 [==============================] - 11s 4ms/step - loss: 1.2486 - acc: 0.0507 - val_loss: 3.0839 - val_acc: 0.0426\n",
            "Epoch 26/500\n",
            "2669/2669 [==============================] - 11s 4ms/step - loss: 1.2409 - acc: 0.0512 - val_loss: 3.1012 - val_acc: 0.0438\n",
            "Epoch 27/500\n",
            "2669/2669 [==============================] - 11s 4ms/step - loss: 1.2323 - acc: 0.0514 - val_loss: 3.0896 - val_acc: 0.0448\n",
            "Epoch 28/500\n",
            "2669/2669 [==============================] - 11s 4ms/step - loss: 1.2255 - acc: 0.0522 - val_loss: 3.0914 - val_acc: 0.0443\n",
            "Epoch 29/500\n",
            "2669/2669 [==============================] - 11s 4ms/step - loss: 1.2175 - acc: 0.0528 - val_loss: 3.0840 - val_acc: 0.0457\n",
            "Epoch 30/500\n",
            "2669/2669 [==============================] - 11s 4ms/step - loss: 1.2084 - acc: 0.0532 - val_loss: 3.1127 - val_acc: 0.0443\n",
            "Epoch 31/500\n",
            "2669/2669 [==============================] - 11s 4ms/step - loss: 1.2026 - acc: 0.0535 - val_loss: 3.0938 - val_acc: 0.0457\n",
            "Epoch 32/500\n",
            "2669/2669 [==============================] - 11s 4ms/step - loss: 1.1943 - acc: 0.0541 - val_loss: 3.1010 - val_acc: 0.0467\n",
            "Epoch 33/500\n",
            "2669/2669 [==============================] - 11s 4ms/step - loss: 1.1878 - acc: 0.0542 - val_loss: 3.0970 - val_acc: 0.0465\n",
            "Epoch 34/500\n",
            "2669/2669 [==============================] - 13s 5ms/step - loss: 1.1812 - acc: 0.0547 - val_loss: 3.0797 - val_acc: 0.0470\n",
            "Epoch 35/500\n",
            "2669/2669 [==============================] - 11s 4ms/step - loss: 1.1731 - acc: 0.0554 - val_loss: 3.0912 - val_acc: 0.0470\n",
            "Epoch 36/500\n",
            "2669/2669 [==============================] - 11s 4ms/step - loss: 1.1663 - acc: 0.0560 - val_loss: 3.0800 - val_acc: 0.0484\n",
            "Epoch 37/500\n",
            "2669/2669 [==============================] - 11s 4ms/step - loss: 1.1593 - acc: 0.0564 - val_loss: 3.0944 - val_acc: 0.0467\n",
            "Epoch 38/500\n",
            "2669/2669 [==============================] - 11s 4ms/step - loss: 1.1523 - acc: 0.0569 - val_loss: 3.0858 - val_acc: 0.0489\n",
            "Epoch 39/500\n",
            "2669/2669 [==============================] - 11s 4ms/step - loss: 1.1460 - acc: 0.0574 - val_loss: 3.0828 - val_acc: 0.0494\n",
            "Epoch 40/500\n",
            "2669/2669 [==============================] - 11s 4ms/step - loss: 1.1392 - acc: 0.0580 - val_loss: 3.0880 - val_acc: 0.0487\n",
            "Epoch 41/500\n",
            "2669/2669 [==============================] - 11s 4ms/step - loss: 1.1327 - acc: 0.0586 - val_loss: 3.0828 - val_acc: 0.0492\n",
            "Epoch 42/500\n",
            "2669/2669 [==============================] - 11s 4ms/step - loss: 1.1256 - acc: 0.0588 - val_loss: 3.0759 - val_acc: 0.0509\n",
            "Epoch 43/500\n",
            "2669/2669 [==============================] - 11s 4ms/step - loss: 1.1183 - acc: 0.0599 - val_loss: 3.0947 - val_acc: 0.0494\n",
            "Epoch 44/500\n",
            "2669/2669 [==============================] - 11s 4ms/step - loss: 1.1132 - acc: 0.0602 - val_loss: 3.0623 - val_acc: 0.0506\n",
            "Epoch 45/500\n",
            "2669/2669 [==============================] - 11s 4ms/step - loss: 1.1058 - acc: 0.0611 - val_loss: 3.0845 - val_acc: 0.0506\n",
            "Epoch 46/500\n",
            "2669/2669 [==============================] - 11s 4ms/step - loss: 1.0989 - acc: 0.0619 - val_loss: 3.0768 - val_acc: 0.0506\n",
            "Epoch 47/500\n",
            "2669/2669 [==============================] - 11s 4ms/step - loss: 1.0919 - acc: 0.0624 - val_loss: 3.0631 - val_acc: 0.0523\n",
            "Epoch 48/500\n",
            "2669/2669 [==============================] - 11s 4ms/step - loss: 1.0856 - acc: 0.0632 - val_loss: 3.0721 - val_acc: 0.0540\n",
            "Epoch 49/500\n",
            "2669/2669 [==============================] - 11s 4ms/step - loss: 1.0797 - acc: 0.0643 - val_loss: 3.0758 - val_acc: 0.0531\n",
            "Epoch 50/500\n",
            "2669/2669 [==============================] - 13s 5ms/step - loss: 1.0730 - acc: 0.0649 - val_loss: 3.0587 - val_acc: 0.0545\n",
            "Epoch 51/500\n",
            "2669/2669 [==============================] - 11s 4ms/step - loss: 1.0657 - acc: 0.0656 - val_loss: 3.0762 - val_acc: 0.0548\n",
            "Epoch 52/500\n",
            "2669/2669 [==============================] - 11s 4ms/step - loss: 1.0600 - acc: 0.0670 - val_loss: 3.0645 - val_acc: 0.0538\n",
            "Epoch 53/500\n",
            "2669/2669 [==============================] - 11s 4ms/step - loss: 1.0538 - acc: 0.0671 - val_loss: 3.0768 - val_acc: 0.0548\n",
            "Epoch 54/500\n",
            "2669/2669 [==============================] - 11s 4ms/step - loss: 1.0477 - acc: 0.0683 - val_loss: 3.0615 - val_acc: 0.0548\n",
            "Epoch 55/500\n",
            "2669/2669 [==============================] - 11s 4ms/step - loss: 1.0401 - acc: 0.0692 - val_loss: 3.0701 - val_acc: 0.0560\n",
            "Epoch 56/500\n",
            "2669/2669 [==============================] - 11s 4ms/step - loss: 1.0336 - acc: 0.0700 - val_loss: 3.0617 - val_acc: 0.0562\n",
            "Epoch 57/500\n",
            "2669/2669 [==============================] - 11s 4ms/step - loss: 1.0287 - acc: 0.0706 - val_loss: 3.0729 - val_acc: 0.0550\n",
            "Epoch 58/500\n",
            "2669/2669 [==============================] - 11s 4ms/step - loss: 1.0220 - acc: 0.0712 - val_loss: 3.0688 - val_acc: 0.0567\n",
            "Epoch 59/500\n",
            "2669/2669 [==============================] - 11s 4ms/step - loss: 1.0157 - acc: 0.0724 - val_loss: 3.0750 - val_acc: 0.0570\n",
            "Epoch 60/500\n",
            "2669/2669 [==============================] - 11s 4ms/step - loss: 1.0101 - acc: 0.0727 - val_loss: 3.0750 - val_acc: 0.0553\n",
            "Epoch 61/500\n",
            "2669/2669 [==============================] - 11s 4ms/step - loss: 1.0035 - acc: 0.0732 - val_loss: 3.0662 - val_acc: 0.0565\n",
            "Epoch 62/500\n",
            "2669/2669 [==============================] - 11s 4ms/step - loss: 0.9975 - acc: 0.0741 - val_loss: 3.0891 - val_acc: 0.0550\n",
            "Epoch 63/500\n",
            "2669/2669 [==============================] - 11s 4ms/step - loss: 0.9916 - acc: 0.0749 - val_loss: 3.0858 - val_acc: 0.0570\n",
            "Epoch 64/500\n",
            "2669/2669 [==============================] - 11s 4ms/step - loss: 0.9856 - acc: 0.0754 - val_loss: 3.0751 - val_acc: 0.0565\n",
            "Epoch 65/500\n",
            "2669/2669 [==============================] - 11s 4ms/step - loss: 0.9799 - acc: 0.0762 - val_loss: 3.0757 - val_acc: 0.0587\n",
            "Epoch 66/500\n",
            "2669/2669 [==============================] - 13s 5ms/step - loss: 0.9735 - acc: 0.0769 - val_loss: 3.0787 - val_acc: 0.0577\n",
            "Epoch 67/500\n",
            "2669/2669 [==============================] - 11s 4ms/step - loss: 0.9686 - acc: 0.0773 - val_loss: 3.0780 - val_acc: 0.0575\n",
            "Epoch 68/500\n",
            "2669/2669 [==============================] - 11s 4ms/step - loss: 0.9611 - acc: 0.0782 - val_loss: 3.0989 - val_acc: 0.0584\n",
            "Epoch 69/500\n",
            "2669/2669 [==============================] - 11s 4ms/step - loss: 0.9565 - acc: 0.0789 - val_loss: 3.0915 - val_acc: 0.0594\n",
            "Epoch 70/500\n",
            "2669/2669 [==============================] - 11s 4ms/step - loss: 0.9500 - acc: 0.0795 - val_loss: 3.1113 - val_acc: 0.0582\n",
            "Epoch 71/500\n",
            "2669/2669 [==============================] - 11s 4ms/step - loss: 0.9447 - acc: 0.0805 - val_loss: 3.0942 - val_acc: 0.0582\n",
            "Epoch 72/500\n",
            "2669/2669 [==============================] - 11s 4ms/step - loss: 0.9395 - acc: 0.0806 - val_loss: 3.0956 - val_acc: 0.0592\n",
            "Epoch 73/500\n",
            "2669/2669 [==============================] - 11s 4ms/step - loss: 0.9339 - acc: 0.0814 - val_loss: 3.1050 - val_acc: 0.0589\n",
            "Epoch 74/500\n",
            "2669/2669 [==============================] - 11s 4ms/step - loss: 0.9282 - acc: 0.0825 - val_loss: 3.0988 - val_acc: 0.0592\n",
            "Epoch 75/500\n",
            "2669/2669 [==============================] - 11s 4ms/step - loss: 0.9223 - acc: 0.0828 - val_loss: 3.1035 - val_acc: 0.0589\n",
            "Epoch 76/500\n",
            "2669/2669 [==============================] - 11s 4ms/step - loss: 0.9169 - acc: 0.0842 - val_loss: 3.0979 - val_acc: 0.0607\n",
            "Epoch 77/500\n",
            "2669/2669 [==============================] - 11s 4ms/step - loss: 0.9116 - acc: 0.0843 - val_loss: 3.1108 - val_acc: 0.0587\n",
            "Epoch 78/500\n",
            "2669/2669 [==============================] - 11s 4ms/step - loss: 0.9057 - acc: 0.0847 - val_loss: 3.0946 - val_acc: 0.0609\n",
            "Epoch 79/500\n",
            "2669/2669 [==============================] - 11s 4ms/step - loss: 0.9005 - acc: 0.0856 - val_loss: 3.1099 - val_acc: 0.0611\n",
            "Epoch 80/500\n",
            "2669/2669 [==============================] - 11s 4ms/step - loss: 0.8955 - acc: 0.0863 - val_loss: 3.1165 - val_acc: 0.0587\n",
            "Epoch 81/500\n",
            "2669/2669 [==============================] - 11s 4ms/step - loss: 0.8897 - acc: 0.0874 - val_loss: 3.1327 - val_acc: 0.0594\n",
            "Epoch 82/500\n",
            "2669/2669 [==============================] - 13s 5ms/step - loss: 0.8842 - acc: 0.0878 - val_loss: 3.1171 - val_acc: 0.0614\n",
            "Epoch 83/500\n",
            "2669/2669 [==============================] - 11s 4ms/step - loss: 0.8788 - acc: 0.0891 - val_loss: 3.1262 - val_acc: 0.0609\n",
            "Epoch 84/500\n",
            "2669/2669 [==============================] - 11s 4ms/step - loss: 0.8736 - acc: 0.0893 - val_loss: 3.1144 - val_acc: 0.0611\n",
            "Epoch 85/500\n",
            "2669/2669 [==============================] - 11s 4ms/step - loss: 0.8683 - acc: 0.0903 - val_loss: 3.1353 - val_acc: 0.0597\n",
            "Epoch 86/500\n",
            "2669/2669 [==============================] - 11s 4ms/step - loss: 0.8637 - acc: 0.0913 - val_loss: 3.1222 - val_acc: 0.0607\n",
            "Epoch 87/500\n",
            "2669/2669 [==============================] - 11s 4ms/step - loss: 0.8576 - acc: 0.0916 - val_loss: 3.1264 - val_acc: 0.0607\n",
            "Epoch 88/500\n",
            "2669/2669 [==============================] - 11s 4ms/step - loss: 0.8528 - acc: 0.0927 - val_loss: 3.1532 - val_acc: 0.0599\n",
            "Epoch 89/500\n",
            "2669/2669 [==============================] - 11s 4ms/step - loss: 0.1181 - acc: 0.2403 - val_loss: 4.1919 - val_acc: 0.0636\n",
            "Epoch 402/500\n",
            "2669/2669 [==============================] - 11s 4ms/step - loss: 0.1173 - acc: 0.2408 - val_loss: 4.1996 - val_acc: 0.0607\n",
            "Epoch 403/500\n",
            "2669/2669 [==============================] - 12s 4ms/step - loss: 0.1154 - acc: 0.2414 - val_loss: 4.2086 - val_acc: 0.0597\n",
            "Epoch 404/500\n",
            "2669/2669 [==============================] - 12s 4ms/step - loss: 0.1152 - acc: 0.2409 - val_loss: 4.2101 - val_acc: 0.0604\n",
            "Epoch 405/500\n",
            "2669/2669 [==============================] - 11s 4ms/step - loss: 0.1155 - acc: 0.2410 - val_loss: 4.2142 - val_acc: 0.0592\n",
            "Epoch 406/500\n",
            "2669/2669 [==============================] - 12s 4ms/step - loss: 0.1138 - acc: 0.2410 - val_loss: 4.2318 - val_acc: 0.0599\n",
            "Epoch 407/500\n",
            "2669/2669 [==============================] - 12s 4ms/step - loss: 0.1145 - acc: 0.2408 - val_loss: 4.2131 - val_acc: 0.0589\n",
            "Epoch 408/500\n",
            "2669/2669 [==============================] - 11s 4ms/step - loss: 0.1119 - acc: 0.2418 - val_loss: 4.2231 - val_acc: 0.0607\n",
            "Epoch 409/500\n",
            "2669/2669 [==============================] - 12s 4ms/step - loss: 0.1126 - acc: 0.2415 - val_loss: 4.2124 - val_acc: 0.0614\n",
            "Epoch 410/500\n",
            "2669/2669 [==============================] - 11s 4ms/step - loss: 0.1112 - acc: 0.2419 - val_loss: 4.2230 - val_acc: 0.0589\n",
            "Epoch 411/500\n",
            "2669/2669 [==============================] - 11s 4ms/step - loss: 0.1102 - acc: 0.2422 - val_loss: 4.2435 - val_acc: 0.0604\n",
            "Epoch 412/500\n",
            "2669/2669 [==============================] - 13s 5ms/step - loss: 0.1092 - acc: 0.2420 - val_loss: 4.2495 - val_acc: 0.0602\n",
            "Epoch 413/500\n",
            "2669/2669 [==============================] - 11s 4ms/step - loss: 0.1093 - acc: 0.2423 - val_loss: 4.2448 - val_acc: 0.0582\n",
            "Epoch 414/500\n",
            "2669/2669 [==============================] - 12s 4ms/step - loss: 0.1092 - acc: 0.2417 - val_loss: 4.2346 - val_acc: 0.0594\n",
            "Epoch 415/500\n",
            "2669/2669 [==============================] - 12s 4ms/step - loss: 0.1074 - acc: 0.2426 - val_loss: 4.2434 - val_acc: 0.0604\n",
            "Epoch 416/500\n",
            "2669/2669 [==============================] - 11s 4ms/step - loss: 0.1072 - acc: 0.2426 - val_loss: 4.2642 - val_acc: 0.0582\n",
            "Epoch 417/500\n",
            "2669/2669 [==============================] - 11s 4ms/step - loss: 0.1058 - acc: 0.2428 - val_loss: 4.2449 - val_acc: 0.0594\n",
            "Epoch 418/500\n",
            "2669/2669 [==============================] - 11s 4ms/step - loss: 0.1059 - acc: 0.2428 - val_loss: 4.2551 - val_acc: 0.0594\n",
            "Epoch 419/500\n",
            "2669/2669 [==============================] - 12s 4ms/step - loss: 0.1046 - acc: 0.2434 - val_loss: 4.2516 - val_acc: 0.0609\n",
            "Epoch 420/500\n",
            "2669/2669 [==============================] - 12s 4ms/step - loss: 0.1043 - acc: 0.2431 - val_loss: 4.2484 - val_acc: 0.0611\n",
            "Epoch 421/500\n",
            "2669/2669 [==============================] - 12s 4ms/step - loss: 0.1039 - acc: 0.2430 - val_loss: 4.2501 - val_acc: 0.0582\n",
            "Epoch 422/500\n",
            "2669/2669 [==============================] - 12s 4ms/step - loss: 0.1025 - acc: 0.2437 - val_loss: 4.2508 - val_acc: 0.0599\n",
            "Epoch 423/500\n",
            "2669/2669 [==============================] - 12s 4ms/step - loss: 0.1026 - acc: 0.2437 - val_loss: 4.2589 - val_acc: 0.0602\n",
            "Epoch 424/500\n",
            "2669/2669 [==============================] - 12s 4ms/step - loss: 0.1025 - acc: 0.2432 - val_loss: 4.2599 - val_acc: 0.0607\n",
            "Epoch 425/500\n",
            "2669/2669 [==============================] - 12s 4ms/step - loss: 0.1016 - acc: 0.2434 - val_loss: 4.2529 - val_acc: 0.0609\n",
            "Epoch 426/500\n",
            "2669/2669 [==============================] - 12s 4ms/step - loss: 0.0998 - acc: 0.2441 - val_loss: 4.2664 - val_acc: 0.0604\n",
            "Epoch 427/500\n",
            "2669/2669 [==============================] - 13s 5ms/step - loss: 0.0993 - acc: 0.2442 - val_loss: 4.2593 - val_acc: 0.0611\n",
            "Epoch 428/500\n",
            "2669/2669 [==============================] - 12s 4ms/step - loss: 0.0997 - acc: 0.2440 - val_loss: 4.2643 - val_acc: 0.0597\n",
            "Epoch 429/500\n",
            "2669/2669 [==============================] - 12s 4ms/step - loss: 0.0978 - acc: 0.2444 - val_loss: 4.2650 - val_acc: 0.0592\n",
            "Epoch 430/500\n",
            "2669/2669 [==============================] - 12s 4ms/step - loss: 0.0972 - acc: 0.2445 - val_loss: 4.2856 - val_acc: 0.0602\n",
            "Epoch 431/500\n"
          ],
          "name": "stdout"
        },
        {
          "output_type": "stream",
          "text": [
            "2669/2669 [==============================] - 11s 4ms/step - loss: 0.0975 - acc: 0.2440 - val_loss: 4.2832 - val_acc: 0.0609\n",
            "Epoch 432/500\n",
            "2669/2669 [==============================] - 11s 4ms/step - loss: 0.0975 - acc: 0.2442 - val_loss: 4.2848 - val_acc: 0.0607\n",
            "Epoch 433/500\n",
            "2669/2669 [==============================] - 12s 4ms/step - loss: 0.0958 - acc: 0.2449 - val_loss: 4.2788 - val_acc: 0.0597\n",
            "Epoch 434/500\n",
            "2669/2669 [==============================] - 12s 4ms/step - loss: 0.0953 - acc: 0.2452 - val_loss: 4.2851 - val_acc: 0.0602\n",
            "Epoch 435/500\n",
            "2669/2669 [==============================] - 12s 4ms/step - loss: 0.0953 - acc: 0.2446 - val_loss: 4.2983 - val_acc: 0.0599\n",
            "Epoch 436/500\n",
            "2669/2669 [==============================] - 11s 4ms/step - loss: 0.0936 - acc: 0.2452 - val_loss: 4.2990 - val_acc: 0.0584\n",
            "Epoch 437/500\n",
            "2669/2669 [==============================] - 12s 4ms/step - loss: 0.0943 - acc: 0.2452 - val_loss: 4.3102 - val_acc: 0.0589\n",
            "Epoch 438/500\n",
            "2669/2669 [==============================] - 12s 4ms/step - loss: 0.0942 - acc: 0.2453 - val_loss: 4.3232 - val_acc: 0.0597\n",
            "Epoch 439/500\n",
            "2669/2669 [==============================] - 12s 4ms/step - loss: 0.0918 - acc: 0.2456 - val_loss: 4.3193 - val_acc: 0.0614\n",
            "Epoch 440/500\n",
            "2669/2669 [==============================] - 12s 4ms/step - loss: 0.0914 - acc: 0.2455 - val_loss: 4.3103 - val_acc: 0.0599\n",
            "Epoch 441/500\n",
            "2669/2669 [==============================] - 11s 4ms/step - loss: 0.0927 - acc: 0.2452 - val_loss: 4.2969 - val_acc: 0.0609\n",
            "Epoch 442/500\n",
            "2669/2669 [==============================] - 12s 4ms/step - loss: 0.0902 - acc: 0.2460 - val_loss: 4.3331 - val_acc: 0.0582\n",
            "Epoch 443/500\n",
            "2669/2669 [==============================] - 13s 5ms/step - loss: 0.0897 - acc: 0.2464 - val_loss: 4.3098 - val_acc: 0.0592\n",
            "Epoch 444/500\n",
            "2669/2669 [==============================] - 12s 4ms/step - loss: 0.0899 - acc: 0.2456 - val_loss: 4.3154 - val_acc: 0.0594\n",
            "Epoch 445/500\n",
            "2669/2669 [==============================] - 12s 4ms/step - loss: 0.0892 - acc: 0.2461 - val_loss: 4.3156 - val_acc: 0.0602\n",
            "Epoch 446/500\n",
            "2669/2669 [==============================] - 12s 4ms/step - loss: 0.0880 - acc: 0.2465 - val_loss: 4.3115 - val_acc: 0.0597\n",
            "Epoch 447/500\n",
            "2669/2669 [==============================] - 12s 4ms/step - loss: 0.0879 - acc: 0.2464 - val_loss: 4.3252 - val_acc: 0.0594\n",
            "Epoch 448/500\n",
            "2669/2669 [==============================] - 12s 4ms/step - loss: 0.0881 - acc: 0.2461 - val_loss: 4.3192 - val_acc: 0.0597\n",
            "Epoch 449/500\n",
            "2669/2669 [==============================] - 12s 4ms/step - loss: 0.0860 - acc: 0.2467 - val_loss: 4.3208 - val_acc: 0.0597\n",
            "Epoch 450/500\n",
            "2669/2669 [==============================] - 12s 4ms/step - loss: 0.0870 - acc: 0.2467 - val_loss: 4.3305 - val_acc: 0.0602\n",
            "Epoch 451/500\n",
            "2669/2669 [==============================] - 12s 4ms/step - loss: 0.0855 - acc: 0.2471 - val_loss: 4.3216 - val_acc: 0.0582\n",
            "Epoch 452/500\n",
            "2669/2669 [==============================] - 12s 4ms/step - loss: 0.0843 - acc: 0.2471 - val_loss: 4.3584 - val_acc: 0.0580\n",
            "Epoch 453/500\n",
            "2669/2669 [==============================] - 11s 4ms/step - loss: 0.0841 - acc: 0.2471 - val_loss: 4.3383 - val_acc: 0.0594\n",
            "Epoch 454/500\n",
            "2669/2669 [==============================] - 11s 4ms/step - loss: 0.0846 - acc: 0.2471 - val_loss: 4.3459 - val_acc: 0.0597\n",
            "Epoch 455/500\n",
            "2669/2669 [==============================] - 12s 4ms/step - loss: 0.0831 - acc: 0.2473 - val_loss: 4.3405 - val_acc: 0.0599\n",
            "Epoch 456/500\n",
            "2669/2669 [==============================] - 12s 4ms/step - loss: 0.0830 - acc: 0.2470 - val_loss: 4.3459 - val_acc: 0.0599\n",
            "Epoch 457/500\n",
            "2669/2669 [==============================] - 11s 4ms/step - loss: 0.0833 - acc: 0.2471 - val_loss: 4.3490 - val_acc: 0.0607\n",
            "Epoch 458/500\n",
            "2669/2669 [==============================] - 13s 5ms/step - loss: 0.0813 - acc: 0.2477 - val_loss: 4.3559 - val_acc: 0.0624\n",
            "Epoch 459/500\n",
            "2669/2669 [==============================] - 11s 4ms/step - loss: 0.0812 - acc: 0.2477 - val_loss: 4.3485 - val_acc: 0.0594\n",
            "Epoch 460/500\n",
            "2669/2669 [==============================] - 12s 4ms/step - loss: 0.0815 - acc: 0.2471 - val_loss: 4.3670 - val_acc: 0.0604\n",
            "Epoch 461/500\n",
            "2669/2669 [==============================] - 11s 4ms/step - loss: 0.0801 - acc: 0.2478 - val_loss: 4.3644 - val_acc: 0.0594\n",
            "Epoch 462/500\n",
            "2669/2669 [==============================] - 11s 4ms/step - loss: 0.0798 - acc: 0.2479 - val_loss: 4.3723 - val_acc: 0.0599\n",
            "Epoch 463/500\n",
            "2669/2669 [==============================] - 11s 4ms/step - loss: 0.0808 - acc: 0.2473 - val_loss: 4.3668 - val_acc: 0.0594\n",
            "Epoch 464/500\n",
            "2669/2669 [==============================] - 11s 4ms/step - loss: 0.0791 - acc: 0.2478 - val_loss: 4.3688 - val_acc: 0.0597\n",
            "Epoch 465/500\n",
            "2669/2669 [==============================] - 12s 4ms/step - loss: 0.0791 - acc: 0.2477 - val_loss: 4.3796 - val_acc: 0.0587\n",
            "Epoch 466/500\n",
            "2669/2669 [==============================] - 12s 4ms/step - loss: 0.0769 - acc: 0.2485 - val_loss: 4.3920 - val_acc: 0.0582\n",
            "Epoch 467/500\n",
            "2669/2669 [==============================] - 12s 4ms/step - loss: 0.0775 - acc: 0.2483 - val_loss: 4.3674 - val_acc: 0.0584\n",
            "Epoch 468/500\n",
            "2669/2669 [==============================] - 12s 4ms/step - loss: 0.0765 - acc: 0.2485 - val_loss: 4.3912 - val_acc: 0.0584\n",
            "Epoch 469/500\n",
            "2669/2669 [==============================] - 11s 4ms/step - loss: 0.0771 - acc: 0.2484 - val_loss: 4.3871 - val_acc: 0.0616\n",
            "Epoch 470/500\n",
            "2669/2669 [==============================] - 12s 4ms/step - loss: 0.0756 - acc: 0.2487 - val_loss: 4.3812 - val_acc: 0.0594\n",
            "Epoch 471/500\n",
            "2669/2669 [==============================] - 12s 4ms/step - loss: 0.0754 - acc: 0.2483 - val_loss: 4.4123 - val_acc: 0.0577\n",
            "Epoch 472/500\n",
            "2669/2669 [==============================] - 11s 4ms/step - loss: 0.0751 - acc: 0.2484 - val_loss: 4.3972 - val_acc: 0.0567\n",
            "Epoch 473/500\n",
            "2669/2669 [==============================] - 12s 4ms/step - loss: 0.0736 - acc: 0.2491 - val_loss: 4.4064 - val_acc: 0.0575\n",
            "Epoch 474/500\n",
            "2669/2669 [==============================] - 13s 5ms/step - loss: 0.0743 - acc: 0.2488 - val_loss: 4.4083 - val_acc: 0.0572\n",
            "Epoch 475/500\n",
            "2669/2669 [==============================] - 12s 4ms/step - loss: 0.0735 - acc: 0.2490 - val_loss: 4.3996 - val_acc: 0.0582\n",
            "Epoch 476/500\n",
            "2669/2669 [==============================] - 12s 4ms/step - loss: 0.0731 - acc: 0.2490 - val_loss: 4.3963 - val_acc: 0.0575\n",
            "Epoch 477/500\n",
            "2669/2669 [==============================] - 12s 4ms/step - loss: 0.0724 - acc: 0.2491 - val_loss: 4.4142 - val_acc: 0.0575\n",
            "Epoch 478/500\n",
            "2669/2669 [==============================] - 11s 4ms/step - loss: 0.0728 - acc: 0.2491 - val_loss: 4.4034 - val_acc: 0.0577\n",
            "Epoch 479/500\n",
            "2669/2669 [==============================] - 11s 4ms/step - loss: 0.0713 - acc: 0.2492 - val_loss: 4.4236 - val_acc: 0.0580\n",
            "Epoch 480/500\n",
            "2669/2669 [==============================] - 11s 4ms/step - loss: 0.0718 - acc: 0.2491 - val_loss: 4.4150 - val_acc: 0.0584\n",
            "Epoch 481/500\n",
            "2669/2669 [==============================] - 12s 4ms/step - loss: 0.0712 - acc: 0.2491 - val_loss: 4.4321 - val_acc: 0.0570\n",
            "Epoch 482/500\n",
            "2669/2669 [==============================] - 11s 4ms/step - loss: 0.0698 - acc: 0.2495 - val_loss: 4.4205 - val_acc: 0.0575\n",
            "Epoch 483/500\n",
            "2669/2669 [==============================] - 11s 4ms/step - loss: 0.0698 - acc: 0.2494 - val_loss: 4.4304 - val_acc: 0.0565\n",
            "Epoch 484/500\n",
            "2669/2669 [==============================] - 12s 4ms/step - loss: 0.0700 - acc: 0.2493 - val_loss: 4.4455 - val_acc: 0.0584\n",
            "Epoch 485/500\n",
            "2669/2669 [==============================] - 12s 4ms/step - loss: 0.0691 - acc: 0.2497 - val_loss: 4.4216 - val_acc: 0.0577\n",
            "Epoch 486/500\n",
            "2669/2669 [==============================] - 12s 4ms/step - loss: 0.0686 - acc: 0.2499 - val_loss: 4.4213 - val_acc: 0.0582\n",
            "Epoch 487/500\n",
            "2669/2669 [==============================] - 12s 4ms/step - loss: 0.0677 - acc: 0.2498 - val_loss: 4.4530 - val_acc: 0.0562\n",
            "Epoch 488/500\n",
            "2669/2669 [==============================] - 11s 4ms/step - loss: 0.0679 - acc: 0.2499 - val_loss: 4.4376 - val_acc: 0.0575\n",
            "Epoch 489/500\n",
            "2669/2669 [==============================] - 13s 5ms/step - loss: 0.0664 - acc: 0.2502 - val_loss: 4.4478 - val_acc: 0.0562\n",
            "Epoch 490/500\n",
            "2669/2669 [==============================] - 11s 4ms/step - loss: 0.0669 - acc: 0.2497 - val_loss: 4.4408 - val_acc: 0.0575\n",
            "Epoch 491/500\n",
            "2669/2669 [==============================] - 11s 4ms/step - loss: 0.0666 - acc: 0.2500 - val_loss: 4.4424 - val_acc: 0.0572\n",
            "Epoch 492/500\n",
            "2669/2669 [==============================] - 11s 4ms/step - loss: 0.0660 - acc: 0.2502 - val_loss: 4.4397 - val_acc: 0.0572\n",
            "Epoch 493/500\n",
            "2669/2669 [==============================] - 11s 4ms/step - loss: 0.0653 - acc: 0.2501 - val_loss: 4.4499 - val_acc: 0.0582\n",
            "Epoch 494/500\n",
            "2669/2669 [==============================] - 11s 4ms/step - loss: 0.0652 - acc: 0.2503 - val_loss: 4.4572 - val_acc: 0.0582\n",
            "Epoch 495/500\n",
            "2669/2669 [==============================] - 11s 4ms/step - loss: 0.0655 - acc: 0.2503 - val_loss: 4.4586 - val_acc: 0.0570\n",
            "Epoch 496/500\n",
            "2669/2669 [==============================] - 12s 4ms/step - loss: 0.0641 - acc: 0.2506 - val_loss: 4.4474 - val_acc: 0.0560\n",
            "Epoch 497/500\n",
            "2669/2669 [==============================] - 12s 4ms/step - loss: 0.0634 - acc: 0.2506 - val_loss: 4.4592 - val_acc: 0.0558\n",
            "Epoch 498/500\n",
            "2669/2669 [==============================] - 11s 4ms/step - loss: 0.0640 - acc: 0.2505 - val_loss: 4.4653 - val_acc: 0.0565\n",
            "Epoch 499/500\n",
            "2669/2669 [==============================] - 11s 4ms/step - loss: 0.0628 - acc: 0.2507 - val_loss: 4.4599 - val_acc: 0.0580\n",
            "Epoch 500/500\n",
            "2669/2669 [==============================] - 11s 4ms/step - loss: 0.0628 - acc: 0.2506 - val_loss: 4.4832 - val_acc: 0.0565\n"
          ],
          "name": "stdout"
        },
        {
          "output_type": "execute_result",
          "data": {
            "text/plain": [
              "<keras.callbacks.History at 0x7f5684523438>"
            ]
          },
          "metadata": {
            "tags": []
          },
          "execution_count": 103
        }
      ]
    },
    {
      "cell_type": "code",
      "metadata": {
        "id": "PySr0wADfYdC",
        "outputId": "d30cbfa3-eb08-4b52-8be4-3790358665ec"
      },
      "source": [
        "encoder_model = Model(encoder_inputs, encoder_states)\n",
        "encoder_model.summary()"
      ],
      "execution_count": null,
      "outputs": [
        {
          "output_type": "stream",
          "text": [
            "_________________________________________________________________\n",
            "Layer (type)                 Output Shape              Param #   \n",
            "=================================================================\n",
            "input_5 (InputLayer)         (None, None)              0         \n",
            "_________________________________________________________________\n",
            "embedding_3 (Embedding)      (None, None, 100)         235900    \n",
            "_________________________________________________________________\n",
            "lstm_3 (LSTM)                [(None, 50), (None, 50),  30200     \n",
            "=================================================================\n",
            "Total params: 266,100\n",
            "Trainable params: 266,100\n",
            "Non-trainable params: 0\n",
            "_________________________________________________________________\n"
          ],
          "name": "stdout"
        }
      ]
    },
    {
      "cell_type": "code",
      "metadata": {
        "id": "0DcUNm2CfYdE"
      },
      "source": [
        "#Create sampling model"
      ],
      "execution_count": null,
      "outputs": []
    },
    {
      "cell_type": "code",
      "metadata": {
        "id": "9uEcYN2vfYdG"
      },
      "source": [
        "decoder_state_input_h = Input(shape=(50,))\n",
        "decoder_state_input_c = Input(shape=(50,))\n",
        "decoder_states_inputs = [decoder_state_input_h, decoder_state_input_c]\n",
        "\n",
        "final_dex2= dex(decoder_inputs)\n",
        "\n",
        "decoder_outputs2, state_h2, state_c2 = decoder_lstm(final_dex2, initial_state=decoder_states_inputs)\n",
        "decoder_states2 = [state_h2, state_c2]\n",
        "decoder_outputs2 = decoder_dense(decoder_outputs2)\n",
        "decoder_model = Model(\n",
        "    [decoder_inputs] + decoder_states_inputs,\n",
        "    [decoder_outputs2] + decoder_states2)\n",
        "\n",
        "# Reverse-lookup token index to decode sequences back to\n",
        "# something readable.\n",
        "reverse_input_char_index = dict(\n",
        "    (i, char) for char, i in input_token_index.items())\n",
        "reverse_target_char_index = dict(\n",
        "    (i, char) for char, i in target_token_index.items())"
      ],
      "execution_count": null,
      "outputs": []
    },
    {
      "cell_type": "code",
      "metadata": {
        "id": "zXeL-fQRfYdI"
      },
      "source": [
        "#Function to generate sequences"
      ],
      "execution_count": null,
      "outputs": []
    },
    {
      "cell_type": "code",
      "metadata": {
        "id": "WScBcrv3fYdL"
      },
      "source": [
        "def decode_sequence(input_seq):\n",
        "    # Encode the input as state vectors.\n",
        "    states_value = encoder_model.predict(input_seq)\n",
        "    # Generate empty target sequence of length 1.\n",
        "    target_seq = np.zeros((1,1))\n",
        "    # Populate the first character of target sequence with the start character.\n",
        "    target_seq[0, 0] = target_token_index['START_']\n",
        "\n",
        "    # Sampling loop for a batch of sequences\n",
        "    # (to simplify, here we assume a batch of size 1).\n",
        "    stop_condition = False\n",
        "    decoded_sentence = ''\n",
        "    while not stop_condition:\n",
        "        output_tokens, h, c = decoder_model.predict(\n",
        "            [target_seq] + states_value)\n",
        "\n",
        "        # Sample a token\n",
        "        sampled_token_index = np.argmax(output_tokens[0, -1, :])\n",
        "        sampled_char = reverse_target_char_index[sampled_token_index]\n",
        "        decoded_sentence += ' '+sampled_char\n",
        "\n",
        "        # Exit condition: either hit max length\n",
        "        # or find stop character.\n",
        "        if (sampled_char == '_END' or\n",
        "           len(decoded_sentence) > 52):\n",
        "            stop_condition = True\n",
        "\n",
        "        # Update the target sequence (of length 1).\n",
        "        target_seq = np.zeros((1,1))\n",
        "        target_seq[0, 0] = sampled_token_index\n",
        "\n",
        "        # Update states\n",
        "        states_value = [h, c]\n",
        "\n",
        "    return decoded_sentence"
      ],
      "execution_count": null,
      "outputs": []
    },
    {
      "cell_type": "code",
      "metadata": {
        "id": "DxpRxEvqfYdO"
      },
      "source": [
        "#Look at the some translations"
      ],
      "execution_count": null,
      "outputs": []
    },
    {
      "cell_type": "code",
      "metadata": {
        "id": "T403CdlmfYdQ",
        "outputId": "fa17f920-3e5d-498c-8656-3a312f14d05d"
      },
      "source": [
        "for seq_index in range(100):\n",
        "    # Take one sequence (part of the training set)\n",
        "    # for trying out decoding.\n",
        "    input_seq = encoder_input_data[seq_index: seq_index + 1]\n",
        "    decoded_sentence = decode_sequence(input_seq)\n",
        "    print('-')\n",
        "    print('Input sentence:', lines.eng[seq_index: seq_index + 1])\n",
        "    print('Decoded sentence:', decoded_sentence)"
      ],
      "execution_count": null,
      "outputs": [
        {
          "output_type": "stream",
          "text": [
            "-\n",
            "Input sentence: 0    wow\n",
            "Name: eng, dtype: object\n",
            "Decoded sentence:  समुद्र तट कहां है _END\n",
            "-\n",
            "Input sentence: 1    help\n",
            "Name: eng, dtype: object\n",
            "Decoded sentence:  बचाओ _END\n",
            "-\n",
            "Input sentence: 2    jump\n",
            "Name: eng, dtype: object\n",
            "Decoded sentence:  छलांग _END\n",
            "-\n",
            "Input sentence: 3    jump\n",
            "Name: eng, dtype: object\n",
            "Decoded sentence:  छलांग _END\n",
            "-\n",
            "Input sentence: 4    jump\n",
            "Name: eng, dtype: object\n",
            "Decoded sentence:  छलांग _END\n",
            "-\n",
            "Input sentence: 5    hello\n",
            "Name: eng, dtype: object\n",
            "Decoded sentence:  समुद्र तट कहां है _END\n",
            "-\n",
            "Input sentence: 6    hello\n",
            "Name: eng, dtype: object\n",
            "Decoded sentence:  समुद्र तट कहां है _END\n",
            "-\n",
            "Input sentence: 7    cheers\n",
            "Name: eng, dtype: object\n",
            "Decoded sentence:  है कोटे मानो या न उत्तर कहाँ _END\n",
            "-\n",
            "Input sentence: 8    cheers\n",
            "Name: eng, dtype: object\n",
            "Decoded sentence:  है कोटे मानो या न उत्तर कहाँ _END\n",
            "-\n",
            "Input sentence: 9    got it\n",
            "Name: eng, dtype: object\n",
            "Decoded sentence:  समझे कि नहीं _END\n",
            "-\n",
            "Input sentence: 10    im ok\n",
            "Name: eng, dtype: object\n",
            "Decoded sentence:  मैं ठीक हूँ। _END\n",
            "-\n",
            "Input sentence: 11    awesome\n",
            "Name: eng, dtype: object\n",
            "Decoded sentence:  बहुत बढ़िया _END\n",
            "-\n",
            "Input sentence: 12    come in\n",
            "Name: eng, dtype: object\n",
            "Decoded sentence:  अंदर आ जाओ। _END\n",
            "-\n",
            "Input sentence: 13    get out\n",
            "Name: eng, dtype: object\n",
            "Decoded sentence:  बाहर निकल जाओ _END\n",
            "-\n",
            "Input sentence: 14    go away\n",
            "Name: eng, dtype: object\n",
            "Decoded sentence:  चले जाओ _END\n",
            "-\n",
            "Input sentence: 15    goodbye\n",
            "Name: eng, dtype: object\n",
            "Decoded sentence:  समुद्र तट कहां है _END\n",
            "-\n",
            "Input sentence: 16    perfect\n",
            "Name: eng, dtype: object\n",
            "Decoded sentence:  उत्तम _END\n",
            "-\n",
            "Input sentence: 17    perfect\n",
            "Name: eng, dtype: object\n",
            "Decoded sentence:  उत्तम _END\n",
            "-\n",
            "Input sentence: 18    welcome\n",
            "Name: eng, dtype: object\n",
            "Decoded sentence:  आपका स्वागत है। _END\n",
            "-\n",
            "Input sentence: 19    welcome\n",
            "Name: eng, dtype: object\n",
            "Decoded sentence:  आपका स्वागत है। _END\n",
            "-\n",
            "Input sentence: 20    have fun\n",
            "Name: eng, dtype: object\n",
            "Decoded sentence:  मज़े करो। _END\n",
            "-\n",
            "Input sentence: 21    have fun\n",
            "Name: eng, dtype: object\n",
            "Decoded sentence:  मज़े करो। _END\n",
            "-\n",
            "Input sentence: 22    have fun\n",
            "Name: eng, dtype: object\n",
            "Decoded sentence:  मज़े करो। _END\n",
            "-\n",
            "Input sentence: 23    i forgot\n",
            "Name: eng, dtype: object\n",
            "Decoded sentence:  मैं भूल गई। _END\n",
            "-\n",
            "Input sentence: 24    i forgot\n",
            "Name: eng, dtype: object\n",
            "Decoded sentence:  मैं भूल गई। _END\n",
            "-\n",
            "Input sentence: 25    ill pay\n",
            "Name: eng, dtype: object\n",
            "Decoded sentence:  मैं पैसे दूंगा। _END\n",
            "-\n",
            "Input sentence: 26    im fine\n",
            "Name: eng, dtype: object\n",
            "Decoded sentence:  मैं ठीक हूँ। _END\n",
            "-\n",
            "Input sentence: 27    im full\n",
            "Name: eng, dtype: object\n",
            "Decoded sentence:  मेरा पेट भर गया है। _END\n",
            "-\n",
            "Input sentence: 28    lets go\n",
            "Name: eng, dtype: object\n",
            "Decoded sentence:  चलो चलें _END\n",
            "-\n",
            "Input sentence: 29    answer me\n",
            "Name: eng, dtype: object\n",
            "Decoded sentence:  मुझे जवाब दो। _END\n",
            "-\n",
            "Input sentence: 30    birds fly\n",
            "Name: eng, dtype: object\n",
            "Decoded sentence:  पंछी उड़ते हैं। _END\n",
            "-\n",
            "Input sentence: 31    excuse me\n",
            "Name: eng, dtype: object\n",
            "Decoded sentence:  माफ़ कीजिए। _END\n",
            "-\n",
            "Input sentence: 32    fantastic\n",
            "Name: eng, dtype: object\n",
            "Decoded sentence:  बहुत ख़ूब _END\n",
            "-\n",
            "Input sentence: 33    i fainted\n",
            "Name: eng, dtype: object\n",
            "Decoded sentence:  मैं बेहोश हो गया। _END\n",
            "-\n",
            "Input sentence: 34    i fear so\n",
            "Name: eng, dtype: object\n",
            "Decoded sentence:  खेद की बात है COMMA लेकिन वैसा ही है। _END\n",
            "-\n",
            "Input sentence: 35    i laughed\n",
            "Name: eng, dtype: object\n",
            "Decoded sentence:  मैं बोर हो रहा है क्या _END\n",
            "-\n",
            "Input sentence: 36    im bored\n",
            "Name: eng, dtype: object\n",
            "Decoded sentence:  मैं बोर हो रहा हूँ। _END\n",
            "-\n",
            "Input sentence: 37    im broke\n",
            "Name: eng, dtype: object\n",
            "Decoded sentence:  मेरा दीवालिया हो चुका है। _END\n",
            "-\n",
            "Input sentence: 38    im tired\n",
            "Name: eng, dtype: object\n",
            "Decoded sentence:  मैं थक गया हूँ। _END\n",
            "-\n",
            "Input sentence: 39    its cold\n",
            "Name: eng, dtype: object\n",
            "Decoded sentence:  ठंड हो रही है। _END\n",
            "-\n",
            "Input sentence: 40    well done\n",
            "Name: eng, dtype: object\n",
            "Decoded sentence:  शाबाश _END\n",
            "-\n",
            "Input sentence: 41    who knows\n",
            "Name: eng, dtype: object\n",
            "Decoded sentence:  किसे मालूम है _END\n",
            "-\n",
            "Input sentence: 42    who knows\n",
            "Name: eng, dtype: object\n",
            "Decoded sentence:  किसे मालूम है _END\n",
            "-\n",
            "Input sentence: 43    who knows\n",
            "Name: eng, dtype: object\n",
            "Decoded sentence:  किसे मालूम है _END\n",
            "-\n",
            "Input sentence: 44    who knows\n",
            "Name: eng, dtype: object\n",
            "Decoded sentence:  किसे मालूम है _END\n",
            "-\n",
            "Input sentence: 45    wonderful\n",
            "Name: eng, dtype: object\n",
            "Decoded sentence:  अद्भुत _END\n",
            "-\n",
            "Input sentence: 46    birds sing\n",
            "Name: eng, dtype: object\n",
            "Decoded sentence:  पंछी गाते हैं। _END\n",
            "-\n",
            "Input sentence: 47    come on in\n",
            "Name: eng, dtype: object\n",
            "Decoded sentence:  अंदर आ जाओ। _END\n",
            "-\n",
            "Input sentence: 48    definitely\n",
            "Name: eng, dtype: object\n",
            "Decoded sentence:  निश्चित ही _END\n",
            "-\n",
            "Input sentence: 49    dont move\n",
            "Name: eng, dtype: object\n",
            "Decoded sentence:  हिलो मत। _END\n",
            "-\n",
            "Input sentence: 50    fire burns\n",
            "Name: eng, dtype: object\n",
            "Decoded sentence:  आग जलाती है। _END\n",
            "-\n",
            "Input sentence: 51    follow him\n",
            "Name: eng, dtype: object\n",
            "Decoded sentence:  उसका पीछा करो। _END\n",
            "-\n",
            "Input sentence: 52    i am tired\n",
            "Name: eng, dtype: object\n",
            "Decoded sentence:  मैं थक गया हूँ। _END\n",
            "-\n",
            "Input sentence: 53    i can swim\n",
            "Name: eng, dtype: object\n",
            "Decoded sentence:  मुझे तैरना आता है। _END\n",
            "-\n",
            "Input sentence: 54    i can swim\n",
            "Name: eng, dtype: object\n",
            "Decoded sentence:  मुझे तैरना आता है। _END\n",
            "-\n",
            "Input sentence: 55    i love you\n",
            "Name: eng, dtype: object\n",
            "Decoded sentence:  मैं तुमसे प्यार करता हूँ। _END\n",
            "-\n",
            "Input sentence: 56    i love you\n",
            "Name: eng, dtype: object\n",
            "Decoded sentence:  मैं तुमसे प्यार करता हूँ। _END\n",
            "-\n",
            "Input sentence: 57    i love you\n",
            "Name: eng, dtype: object\n",
            "Decoded sentence:  मैं तुमसे प्यार करता हूँ। _END\n",
            "-\n",
            "Input sentence: 58    i love you\n",
            "Name: eng, dtype: object\n",
            "Decoded sentence:  मैं तुमसे प्यार करता हूँ। _END\n",
            "-\n",
            "Input sentence: 59    i love you\n",
            "Name: eng, dtype: object\n",
            "Decoded sentence:  मैं तुमसे प्यार करता हूँ। _END\n",
            "-\n",
            "Input sentence: 60    i will try\n",
            "Name: eng, dtype: object\n",
            "Decoded sentence:  मैं कोशिश करूँगा। _END\n",
            "-\n",
            "Input sentence: 61    im coming\n",
            "Name: eng, dtype: object\n",
            "Decoded sentence:  मैं आ रहा हूँ। _END\n",
            "-\n",
            "Input sentence: 62    im hungry\n",
            "Name: eng, dtype: object\n",
            "Decoded sentence:  मुझे भूख लगी है _END\n",
            "-\n",
            "Input sentence: 63    im hungry\n",
            "Name: eng, dtype: object\n",
            "Decoded sentence:  मुझे भूख लगी है _END\n",
            "-\n",
            "Input sentence: 64    let him in\n",
            "Name: eng, dtype: object\n",
            "Decoded sentence:  उसे अंगर आने दो। _END\n",
            "-\n",
            "Input sentence: 65    let him in\n",
            "Name: eng, dtype: object\n",
            "Decoded sentence:  उसे अंगर आने दो। _END\n",
            "-\n",
            "Input sentence: 66    let me out\n",
            "Name: eng, dtype: object\n",
            "Decoded sentence:  मुझे बाहर जाने से हसीना लगती है। _END\n",
            "-\n",
            "Input sentence: 67    once again\n",
            "Name: eng, dtype: object\n",
            "Decoded sentence:  उसके सच्चाई का समय चल रहा है _END\n",
            "-\n",
            "Input sentence: 68    please sit\n",
            "Name: eng, dtype: object\n",
            "Decoded sentence:  बैठिए। _END\n",
            "-\n",
            "Input sentence: 69    that a boy\n",
            "Name: eng, dtype: object\n",
            "Decoded sentence:  बैठिए। _END\n",
            "-\n",
            "Input sentence: 70    whats new\n",
            "Name: eng, dtype: object\n",
            "Decoded sentence:  नया क्या है _END\n",
            "-\n",
            "Input sentence: 71    whats new\n",
            "Name: eng, dtype: object\n",
            "Decoded sentence:  नया क्या है _END\n",
            "-\n",
            "Input sentence: 72    whos that\n",
            "Name: eng, dtype: object\n",
            "Decoded sentence:  वह कौन है _END\n",
            "-\n",
            "Input sentence: 73    dont shout\n",
            "Name: eng, dtype: object\n",
            "Decoded sentence:  चिल्लाईए मत। _END\n",
            "-\n",
            "Input sentence: 74    dont shout\n",
            "Name: eng, dtype: object\n",
            "Decoded sentence:  चिल्लाईए मत। _END\n",
            "-\n",
            "Input sentence: 75    he stood up\n",
            "Name: eng, dtype: object\n",
            "Decoded sentence:  वह खड़ा हो गया। _END\n",
            "-\n",
            "Input sentence: 76    hes strong\n",
            "Name: eng, dtype: object\n",
            "Decoded sentence:  वह ताकतवर है। _END\n",
            "-\n",
            "Input sentence: 77    how are you\n",
            "Name: eng, dtype: object\n",
            "Decoded sentence:  आप कैसे हैं _END\n",
            "-\n",
            "Input sentence: 78    how are you\n",
            "Name: eng, dtype: object\n",
            "Decoded sentence:  आप कैसे हैं _END\n",
            "-\n",
            "Input sentence: 79    how are you\n",
            "Name: eng, dtype: object\n",
            "Decoded sentence:  आप कैसे हैं _END\n",
            "-\n",
            "Input sentence: 80    how are you\n",
            "Name: eng, dtype: object\n",
            "Decoded sentence:  आप कैसे हैं _END\n",
            "-\n",
            "Input sentence: 81    how are you\n",
            "Name: eng, dtype: object\n",
            "Decoded sentence:  आप कैसे हैं _END\n",
            "-\n",
            "Input sentence: 82    how are you\n",
            "Name: eng, dtype: object\n",
            "Decoded sentence:  आप कैसे हैं _END\n",
            "-\n",
            "Input sentence: 83    how are you\n",
            "Name: eng, dtype: object\n",
            "Decoded sentence:  आप कैसे हैं _END\n",
            "-\n",
            "Input sentence: 84    i like both\n",
            "Name: eng, dtype: object\n",
            "Decoded sentence:  मुझे दोनो पसंद हैं। _END\n",
            "-\n",
            "Input sentence: 85    i like cake\n",
            "Name: eng, dtype: object\n",
            "Decoded sentence:  मुझे केक अच्छा लगता है। _END\n",
            "-\n",
            "Input sentence: 86    i like dogs\n",
            "Name: eng, dtype: object\n",
            "Decoded sentence:  मुझे कुत्ते अच्छे लगते हैं। _END\n",
            "-\n",
            "Input sentence: 87    i like math\n",
            "Name: eng, dtype: object\n",
            "Decoded sentence:  मुझे गणित पसंद है। _END\n",
            "-\n",
            "Input sentence: 88    ill attend\n",
            "Name: eng, dtype: object\n",
            "Decoded sentence:  मैं आऊंगा। _END\n"
          ],
          "name": "stdout"
        },
        {
          "output_type": "stream",
          "text": [
            "-\n",
            "Input sentence: 89    nobody came\n",
            "Name: eng, dtype: object\n",
            "Decoded sentence:  कोई नहीं आया। _END\n",
            "-\n",
            "Input sentence: 90    was i wrong\n",
            "Name: eng, dtype: object\n",
            "Decoded sentence:  क्या मैं ग़लत था _END\n",
            "-\n",
            "Input sentence: 91    whats this\n",
            "Name: eng, dtype: object\n",
            "Decoded sentence:  यह क्या है _END\n",
            "-\n",
            "Input sentence: 92    are you sick\n",
            "Name: eng, dtype: object\n",
            "Decoded sentence:  क्या तुम बीमार हो _END\n",
            "-\n",
            "Input sentence: 93    bring him in\n",
            "Name: eng, dtype: object\n",
            "Decoded sentence:  उसको अंदर ले आओ। _END\n",
            "-\n",
            "Input sentence: 94    come with us\n",
            "Name: eng, dtype: object\n",
            "Decoded sentence:  हमारे साथ आओ। _END\n",
            "-\n",
            "Input sentence: 95    happy easter\n",
            "Name: eng, dtype: object\n",
            "Decoded sentence:  एसटर मुबारक हो _END\n",
            "-\n",
            "Input sentence: 96    has tom left\n",
            "Name: eng, dtype: object\n",
            "Decoded sentence:  टॉम चला गया क्या _END\n",
            "-\n",
            "Input sentence: 97    he is french\n",
            "Name: eng, dtype: object\n",
            "Decoded sentence:  वह फ़्रानसीसी है। _END\n",
            "-\n",
            "Input sentence: 98    i am at home\n",
            "Name: eng, dtype: object\n",
            "Decoded sentence:  मैं घर पर हूँ। _END\n",
            "-\n",
            "Input sentence: 99    i cant move\n",
            "Name: eng, dtype: object\n",
            "Decoded sentence:  मैं हिल नहीं सकता। _END\n"
          ],
          "name": "stdout"
        }
      ]
    },
    {
      "cell_type": "code",
      "metadata": {
        "id": "-HTm-YkdfYdT"
      },
      "source": [
        "#As we can see above most of the sentences are being translated correctly "
      ],
      "execution_count": null,
      "outputs": []
    }
  ]
}